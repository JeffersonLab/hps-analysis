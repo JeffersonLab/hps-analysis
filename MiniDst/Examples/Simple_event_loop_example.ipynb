{
 "cells": [
  {
   "cell_type": "markdown",
   "id": "c052eddb-71b7-4478-a182-429a872cb075",
   "metadata": {},
   "source": [
    "# Event by Event Data Analysis\n",
    "## Debugging and looping with a MiniDst.\n",
    "The code below allows one to look at the structure of individual events, \n",
    "and make simple loops through the data. Such loops are slower, but can help find errors.\n",
    "\n",
    "It also shows how you can look at individual events. \n",
    "\n",
    "For the Monte Carlo (MC) data, the partices in the events are known, because they were \"thrown\" into the\n",
    "detector. This information is stored in the mc_particle* leaves of the tree.\n",
    "\n",
    "First, setup the ROOT system."
   ]
  },
  {
   "cell_type": "code",
   "execution_count": 1,
   "id": "3c2f312e-4e8a-4868-9f3b-42d564cd1808",
   "metadata": {},
   "outputs": [
    {
     "name": "stdout",
     "output_type": "stream",
     "text": [
      "Welcome to JupyROOT 6.27/01\n"
     ]
    }
   ],
   "source": [
    "import ROOT as R\n",
    "import numpy as np\n",
    "%jsroot on"
   ]
  },
  {
   "cell_type": "markdown",
   "id": "f3d18ac1-83b2-4ba4-948d-e19a4b3b4c1a",
   "metadata": {},
   "source": [
    "### Load libMiniDst\n",
    "We want to load the compiled library for the base class \"MiniDst\". This is done with the ROOT command below, which will load this into the ROOT system. The MiniDst class is then accessible to Python through the ROOT binding.\n",
    "\n",
    "We also want to point to the directory where the \"hps-analysis\" source code is installed in a variable \"hps_analysis_src\", so we can load the helper Python code from there. Finally, we set \"data_dir\" to the location of the data files. \n",
    "\n",
    "Each of these lines below must be adjusted for your own installation of this code."
   ]
  },
  {
   "cell_type": "code",
   "execution_count": 2,
   "id": "815a2019-4e85-4f5f-9d50-2753577e72e8",
   "metadata": {},
   "outputs": [
    {
     "data": {
      "text/plain": [
       "0"
      ]
     },
     "execution_count": 2,
     "metadata": {},
     "output_type": "execute_result"
    }
   ],
   "source": [
    "hps_analysis_src=\"/data/HPS/hps-analysis\"\n",
    "data_dir=\"/data/HPS/Analysis/Photons\"\n",
    "R.gSystem.Load(\"/data/HPS/lib/libMiniDst\")"
   ]
  },
  {
   "cell_type": "markdown",
   "id": "f0a008af-80c0-4828-ad12-f82b1e8f4a14",
   "metadata": {},
   "source": [
    "### Add some data\n",
    "\n",
    "Start a TChain, and add some data files to it. In this case we would want a MC file, so that the mc_particle information is included."
   ]
  },
  {
   "cell_type": "code",
   "execution_count": 3,
   "id": "8b06b9c1-6339-45e1-a738-b66f8d45ad73",
   "metadata": {},
   "outputs": [
    {
     "name": "stdout",
     "output_type": "stream",
     "text": [
      "Loaded 384,250 events.\n"
     ]
    }
   ],
   "source": [
    "dch = R.TChain(\"MiniDST\")                 # Define a TChain for MiniDst data.\n",
    "dch.Add(data_dir+\"/pi0_455GeV_00*.root\")    # Add a file. (you probably need to change the path to it.)\n",
    "print(f\"Loaded {dch.GetEntries():,} events.\") # Print the number of events in the files loaded."
   ]
  },
  {
   "cell_type": "markdown",
   "id": "97853ba3-ee34-41f2-9072-03147e0aceec",
   "metadata": {},
   "source": [
    "### Setup the MiniDst class\n",
    "\n",
    "To make the data easy to look at, we need to create an instance of the MiniDst class and then link it to the data file. Before we do the linking, we want to tell the MiniDst class that we also want to read the mc_particle information in the file.\n",
    "\n",
    "Note: If you look in the MiniDst class, there are a number of switches that turn on or off sets of leaves on the tree. Turning off parts you don't need allow for faster reading of the data.\n"
   ]
  },
  {
   "cell_type": "code",
   "execution_count": 4,
   "id": "d970277a-f4cf-490a-9e6c-e22513e636e1",
   "metadata": {},
   "outputs": [],
   "source": [
    "mdst = R.MiniDst() \n",
    "mdst.use_mc_particles=True\n",
    "mdst.DefineBranchMap()\n",
    "mdst.SetBranchAddressesOnTree(dch)"
   ]
  },
  {
   "cell_type": "markdown",
   "id": "ff0eb59a-fde3-493e-a3cc-159cdbe087a8",
   "metadata": {},
   "source": [
    "### Inspecting a single event\n",
    "\n",
    "Now we can look at what is on the tree. To inspect a single event, you can load it from the tree (any arbitrary event number) and look at the data that is inside.\n",
    "\n",
    "Here I grab event 100, and print a few of the leaves.\n",
    "\n",
    "Note that the total momentum of the particle is not available, only the (x,y,z) components, so we compute the total momentum."
   ]
  },
  {
   "cell_type": "code",
   "execution_count": 5,
   "id": "94161c7a-cee9-4ee0-a3b6-9bea6f552215",
   "metadata": {},
   "outputs": [
    {
     "name": "stdout",
     "output_type": "stream",
     "text": [
      "part type:[0, 9]\n",
      "part pdg :[11, 11]\n",
      "part E   :[4.3694586753845215, 4.3694586753845215]\n",
      "part mom :[4.557879567741962, 4.600983465185292, ]\n",
      "clus E   :[4.3694586753845215]\n"
     ]
    }
   ],
   "source": [
    "dch.GetEntry(99)\n",
    "print(\"part type:\" + str(list(mdst.part.type)))\n",
    "print(\"part pdg :\" + str(list(mdst.part.pdg)))\n",
    "print(\"part E   :\" + str(list(mdst.part.energy)))\n",
    "print(\"part mom :[\",end=\"\")\n",
    "for i in range(len(mdst.part.px)):\n",
    "    print(np.sqrt(mdst.part.px[i]**2+mdst.part.py[i]**2+mdst.part.pz[i]**2),end=\", \")\n",
    "print(\"]\")\n",
    "print(\"clus E   :\" + str(list(mdst.ecal_cluster_energy)))"
   ]
  },
  {
   "cell_type": "markdown",
   "id": "8b9f9893-c1f6-411f-9f92-d45ecfcf6dc8",
   "metadata": {},
   "source": [
    "### Show the MC particles.\n",
    "\n",
    "The initial MC particles in the simulation are likely to interact with material in the target or the detector and produce other particles. To print the complete list of this shower, there are some helper function in the Python file \"root_helpers.py\" in the \"hps-analysis/Python\" directory. \n",
    "\n",
    "Here we load the helper functions and use them to print the particle shower."
   ]
  },
  {
   "cell_type": "code",
   "execution_count": 6,
   "id": "3a8ef7a2-ccbf-4cb0-b0a8-b13eb2e3ce13",
   "metadata": {},
   "outputs": [],
   "source": [
    "import sys\n",
    "sys.path.append(hps_analysis_src+\"/Python\")  # Tell Python where the root_helpers.py file is.\n",
    "from root_helpers import print_mc_particle_tree   # Load the functions we want.\n",
    "from root_helpers import print_daughters"
   ]
  },
  {
   "cell_type": "code",
   "execution_count": 7,
   "id": "da40a1d3-663f-4b10-b958-933027840b03",
   "metadata": {},
   "outputs": [
    {
     "name": "stdout",
     "output_type": "stream",
     "text": [
      "   8  pdg: 2212  E:  0.945721 p = (-0.078711, 0.039382, 0.080139)\n",
      "  12  pdg:   11  E:  4.228935 p = ( 0.240077,-0.171737, 4.218621)\n",
      "              | \n",
      "             34  pdg:   22  E:  0.000000 p = (-0.000000,-0.000000, 0.000000)\n",
      "                         | \n",
      "                        18  pdg:   11  E:  0.000511 p = (-0.000000, 0.000000,-0.000000)\n",
      "                                    | \n",
      "                                   31  pdg:   22  E:  0.000000 p = (-0.000000,-0.000000, 0.000000)\n",
      "                                               | \n",
      "                                              15  pdg:   11  E:  0.000511 p = ( 0.000000, 0.000000,-0.000000)\n",
      "                                                          | \n",
      "                                                          9  pdg:   22  E:  0.001835 p = ( 0.001071, 0.000964,-0.001136)\n",
      "                                                                     | \n",
      "                                                                    33  pdg:   11  E:  0.002070 p = ( 0.001030, 0.000990,-0.001408)\n",
      "  29  pdg:  111  E:  0.313129 p = (-0.022612, 0.132356, 0.249127)\n",
      "              | \n",
      "              5  pdg:   22  E:  0.052344 p = ( 0.020474, 0.047768, 0.006234)\n",
      "             27  pdg:   22  E:  0.260785 p = (-0.043087, 0.084588, 0.242894)\n",
      "                         | \n",
      "                        20  pdg:  -11  E:  0.178856 p = (-0.029304, 0.058566, 0.166435)\n",
      "                                    | \n",
      "                                    0  pdg:   22  E:  0.001989 p = ( 0.000000, 0.000494, 0.001927)\n",
      "                                    2  pdg:   22  E:  0.003984 p = (-0.000228, 0.000442, 0.003953)\n",
      "                                               | \n",
      "                                              17  pdg:   11  E:  0.004176 p = (-0.000027, 0.000272, 0.004135)\n",
      "                                    6  pdg:   22  E:  0.007513 p = ( 0.000348, 0.002951, 0.006900)\n",
      "                                   19  pdg:   22  E:  0.062776 p = (-0.007220, 0.023307, 0.057840)\n",
      "                                               | \n",
      "                                              16  pdg:   11  E:  0.054823 p = (-0.007640, 0.020603, 0.050223)\n",
      "                                                          | \n",
      "                                                          1  pdg:   22  E:  0.003322 p = (-0.000202, 0.001467, 0.002974)\n",
      "                                              25  pdg:  -11  E:  0.007953 p = (-0.000219, 0.002802, 0.007422)\n",
      "                                   21  pdg:   22  E:  0.001221 p = (-0.000176, 0.000450, 0.001121)\n",
      "                                   22  pdg:   22  E:  0.001716 p = (-0.000135, 0.000703, 0.001560)\n",
      "                                   26  pdg:   22  E:  0.001222 p = ( 0.000030, 0.000289, 0.001187)\n",
      "                                   32  pdg:   22  E:  0.003867 p = (-0.000330, 0.001275, 0.003636)\n",
      "                                               | \n",
      "                                              10  pdg:   11  E:  0.004129 p = (-0.000412, 0.001420, 0.003821)\n",
      "                        28  pdg:   11  E:  0.081930 p = (-0.014074, 0.025356, 0.076623)\n",
      "                                    | \n",
      "                                    3  pdg:   22  E:  0.006453 p = (-0.001522, 0.000541, 0.006247)\n",
      "                                               | \n",
      "                                              23  pdg:   11  E:  0.006656 p = (-0.001798, 0.000621, 0.006358)\n",
      "                                                          | \n",
      "                                                          7  pdg:   22  E:  0.001518 p = (-0.000286, 0.000190, 0.001479)\n",
      "                                    4  pdg:   22  E:  0.002109 p = (-0.001190,-0.000077, 0.001740)\n",
      "                                               | \n",
      "                                              30  pdg:   11  E:  0.002110 p = (-0.000747,-0.000287, 0.001884)\n",
      "                                   11  pdg:   22  E:  0.005605 p = (-0.003488, 0.000557, 0.004352)\n",
      "                                               | \n",
      "                                              14  pdg:   11  E:  0.003039 p = (-0.001774,-0.000888, 0.002245)\n",
      "                                   13  pdg:   22  E:  0.003254 p = (-0.001118, 0.000623, 0.002992)\n",
      "                                               | \n",
      "                                              35  pdg:   11  E:  0.002026 p = (-0.000079,-0.000290, 0.001937)\n",
      "                                   24  pdg:   22  E:  0.002019 p = (-0.001133, 0.000202, 0.001659)\n"
     ]
    }
   ],
   "source": [
    "# Print the MC tree for the current event:\n",
    "# Information for each particle is: item # in mc_particle list, PDG particle number,  Energy, (px, py, pz)\n",
    "# Daughter particles are shown by a | line and then the information about the daughters indented.\n",
    "print_mc_particle_tree(mdst)"
   ]
  },
  {
   "cell_type": "markdown",
   "id": "dcdbae64-742a-47cd-9220-bf496a92dc7d",
   "metadata": {},
   "source": [
    "## Simple Loops through events.\n",
    "\n",
    "Here we loop through 1000 events and if the event has a vertex, print the vertex type. \n",
    "The vertex type numbers are defined in MiniDst.h "
   ]
  },
  {
   "cell_type": "code",
   "execution_count": 8,
   "id": "9a1853b0-8088-43de-a30d-6178fd190202",
   "metadata": {},
   "outputs": [
    {
     "name": "stdout",
     "output_type": "stream",
     "text": [
      "   73 - [ 8 = UC_VC_VERTICES_KF, ]\n",
      "   82 - [ 3 = TC_V0_VERTICES_KF, 12 = TC_V0_VERTICES_GBL, ]\n",
      "  213 - [ 3 = TC_V0_VERTICES_KF, 12 = TC_V0_VERTICES_GBL, ]\n",
      "  256 - [ 3 = TC_V0_VERTICES_KF, 12 = TC_V0_VERTICES_GBL, ]\n",
      "  322 - [ 3 = TC_V0_VERTICES_KF, 12 = TC_V0_VERTICES_GBL, ]\n",
      "  413 - [ 8 = UC_VC_VERTICES_KF, 17 = UC_VC_VERTICES_GBL, ]\n",
      "  483 - [ 8 = UC_VC_VERTICES_KF, 17 = UC_VC_VERTICES_GBL, ]\n",
      "  540 - [ 3 = TC_V0_VERTICES_KF, 12 = TC_V0_VERTICES_GBL, ]\n",
      "  550 - [ 3 = TC_V0_VERTICES_KF, 12 = TC_V0_VERTICES_GBL, ]\n",
      "  898 - [12 = TC_V0_VERTICES_GBL, ]\n",
      "  948 - [ 8 = UC_VC_VERTICES_KF, ]\n"
     ]
    }
   ],
   "source": [
    "from root_helpers import get_vertex_dictionary\n",
    "vdict = get_vertex_dictionary()\n",
    "for i in range(1000):\n",
    "    dch.GetEntry(i)   # Get the event\n",
    "    if len(mdst.v0.type) > 0:\n",
    "        print(f\"{i:5d} - [\",end=\"\")\n",
    "        for v in mdst.v0.type:\n",
    "            print(f\"{v:2d} = {vdict[v]}\", end=\", \") # Print the vertex types for all vertexes in the event.\n",
    "        print(\"]\")\n",
    "#\n",
    "# The nomenclature here: \n",
    "# UC = unconstrained, TC = target constrained, BSC = beam spot constrained\n",
    "# V0 = is a vertex, VC is a vertex candidate,  Moller is an e- e- vertex.\n",
    "# KF = vertex from Kalman Fitter tracks,  GBL = vertex from GBL tracks."
   ]
  },
  {
   "cell_type": "markdown",
   "id": "c8789d6c-8cfd-4ad1-aa91-10add9096d8d",
   "metadata": {},
   "source": [
    "### Book a histogram and fill with a loop.\n",
    "\n",
    "We can also create a histogram and fill it with the events from the file. This is not as efficient as a RDataFrame, but it\n",
    "can be conceptually and programaticall easier.\n",
    "\n",
    "Here we fill a histogram with the ECal energy for particles that were identified as photons. We also check that for all particles\n",
    "with a valid ECal cluster associated to it, the energy for that particle is the same as the energy of the Ecal cluster that the\n",
    "particle points to. These should be the same if all the code is working properly.\n"
   ]
  },
  {
   "cell_type": "code",
   "execution_count": 9,
   "id": "4cabce3d-910b-454a-b07d-4825822b7e02",
   "metadata": {},
   "outputs": [
    {
     "name": "stdout",
     "output_type": "stream",
     "text": [
      "Checked 68370 clusters.\n"
     ]
    },
    {
     "data": {
      "text/html": [
       "\n",
       "\n",
       "<div id=\"root_plot_1646013653514\"\n",
       "     style=\"width: 796px; height: 572px\">\n",
       "</div>\n",
       "<script>\n",
       "\n",
       "function display_root_plot_1646013653514(Core) {\n",
       "   let obj = Core.parse({\"_typename\":\"TCanvas\",\"fUniqueID\":0,\"fBits\":3342344,\"fLineColor\":1,\"fLineStyle\":1,\"fLineWidth\":1,\"fFillColor\":0,\"fFillStyle\":1001,\"fLeftMargin\":0.1,\"fRightMargin\":0.1,\"fBottomMargin\":0.1,\"fTopMargin\":0.1,\"fXfile\":2,\"fYfile\":2,\"fAfile\":1,\"fXstat\":0.99,\"fYstat\":0.99,\"fAstat\":2,\"fFrameFillColor\":0,\"fFrameLineColor\":1,\"fFrameFillStyle\":1001,\"fFrameLineStyle\":1,\"fFrameLineWidth\":1,\"fFrameBorderSize\":1,\"fFrameBorderMode\":0,\"fX1\":-0.625000046566132,\"fY1\":-290.718771660236,\"fX2\":5.62500004656613,\"fY2\":2616.46877166024,\"fXtoAbsPixelk\":79.6000547445299,\"fXtoPixelk\":79.6000547445299,\"fXtoPixel\":127.359998102188,\"fYtoAbsPixelk\":514.800046590614,\"fYtoPixelk\":514.800046590614,\"fYtoPixel\":-0.196753732422328,\"fUtoAbsPixelk\":5e-5,\"fUtoPixelk\":5e-5,\"fUtoPixel\":796,\"fVtoAbsPixelk\":572.00005,\"fVtoPixelk\":572,\"fVtoPixel\":-572,\"fAbsPixeltoXk\":-0.625000046566132,\"fPixeltoXk\":-0.625000046566132,\"fPixeltoX\":0.00785175891097018,\"fAbsPixeltoYk\":2616.46877166024,\"fPixeltoYk\":-290.718771660236,\"fPixeltoY\":-5.08249570510572,\"fXlowNDC\":0,\"fYlowNDC\":0,\"fXUpNDC\":1,\"fYUpNDC\":1,\"fWNDC\":1,\"fHNDC\":1,\"fAbsXlowNDC\":0,\"fAbsYlowNDC\":0,\"fAbsWNDC\":1,\"fAbsHNDC\":1,\"fUxmin\":0,\"fUymin\":0,\"fUxmax\":5,\"fUymax\":2325.75,\"fTheta\":30,\"fPhi\":30,\"fAspectRatio\":0,\"fNumber\":0,\"fTickx\":0,\"fTicky\":0,\"fLogx\":0,\"fLogy\":0,\"fLogz\":0,\"fPadPaint\":0,\"fCrosshair\":0,\"fCrosshairPos\":0,\"fBorderSize\":2,\"fBorderMode\":0,\"fModified\":false,\"fGridx\":false,\"fGridy\":false,\"fAbsCoord\":false,\"fEditable\":true,\"fFixedAspectRatio\":false,\"fPrimitives\":{\"_typename\":\"TList\",\"name\":\"TList\",\"arr\":[{\"_typename\":\"TFrame\",\"fUniqueID\":0,\"fBits\":8,\"fLineColor\":1,\"fLineStyle\":1,\"fLineWidth\":1,\"fFillColor\":0,\"fFillStyle\":1001,\"fX1\":0,\"fY1\":0,\"fX2\":5,\"fY2\":2325.75,\"fBorderSize\":1,\"fBorderMode\":0},{\"_typename\":\"TH1F\",\"fUniqueID\":0,\"fBits\":8,\"fName\":\"hh\",\"fTitle\":\"Ecal energy for photons\",\"fLineColor\":602,\"fLineStyle\":1,\"fLineWidth\":1,\"fFillColor\":0,\"fFillStyle\":1001,\"fMarkerColor\":1,\"fMarkerStyle\":1,\"fMarkerSize\":1,\"fNcells\":1002,\"fXaxis\":{\"_typename\":\"TAxis\",\"fUniqueID\":0,\"fBits\":0,\"fName\":\"xaxis\",\"fTitle\":\"\",\"fNdivisions\":510,\"fAxisColor\":1,\"fLabelColor\":1,\"fLabelFont\":42,\"fLabelOffset\":0.005,\"fLabelSize\":0.035,\"fTickLength\":0.03,\"fTitleOffset\":1,\"fTitleSize\":0.035,\"fTitleColor\":1,\"fTitleFont\":42,\"fNbins\":1000,\"fXmin\":0,\"fXmax\":5,\"fXbins\":[],\"fFirst\":0,\"fLast\":0,\"fBits2\":0,\"fTimeDisplay\":false,\"fTimeFormat\":\"\",\"fLabels\":null,\"fModLabs\":null},\"fYaxis\":{\"_typename\":\"TAxis\",\"fUniqueID\":0,\"fBits\":0,\"fName\":\"yaxis\",\"fTitle\":\"\",\"fNdivisions\":510,\"fAxisColor\":1,\"fLabelColor\":1,\"fLabelFont\":42,\"fLabelOffset\":0.005,\"fLabelSize\":0.035,\"fTickLength\":0.03,\"fTitleOffset\":0,\"fTitleSize\":0.035,\"fTitleColor\":1,\"fTitleFont\":42,\"fNbins\":1,\"fXmin\":0,\"fXmax\":1,\"fXbins\":[],\"fFirst\":0,\"fLast\":0,\"fBits2\":0,\"fTimeDisplay\":false,\"fTimeFormat\":\"\",\"fLabels\":null,\"fModLabs\":null},\"fZaxis\":{\"_typename\":\"TAxis\",\"fUniqueID\":0,\"fBits\":0,\"fName\":\"zaxis\",\"fTitle\":\"\",\"fNdivisions\":510,\"fAxisColor\":1,\"fLabelColor\":1,\"fLabelFont\":42,\"fLabelOffset\":0.005,\"fLabelSize\":0.035,\"fTickLength\":0.03,\"fTitleOffset\":1,\"fTitleSize\":0.035,\"fTitleColor\":1,\"fTitleFont\":42,\"fNbins\":1,\"fXmin\":0,\"fXmax\":1,\"fXbins\":[],\"fFirst\":0,\"fLast\":0,\"fBits2\":0,\"fTimeDisplay\":false,\"fTimeFormat\":\"\",\"fLabels\":null,\"fModLabs\":null},\"fBarOffset\":0,\"fBarWidth\":1000,\"fEntries\":142783,\"fTsumw\":142779,\"fTsumw2\":142779,\"fTsumwx\":166138.205916464,\"fTsumwx2\":425871.548233026,\"fMaximum\":-1111,\"fMinimum\":-1111,\"fNormFactor\":0,\"fContour\":[],\"fSumw2\":[],\"fOption\":\"\",\"fFunctions\":{\"_typename\":\"TList\",\"name\":\"TList\",\"arr\":[{\"_typename\":\"TPaveStats\",\"fUniqueID\":0,\"fBits\":9,\"fLineColor\":1,\"fLineStyle\":1,\"fLineWidth\":1,\"fFillColor\":0,\"fFillStyle\":1001,\"fX1\":4.25000012665987,\"fY1\":1962.35159174132,\"fX2\":5.50000016391278,\"fY2\":2427.50158827568,\"fX1NDC\":0.780000016093254,\"fY1NDC\":0.775000005960464,\"fX2NDC\":0.980000019073486,\"fY2NDC\":0.935000002384186,\"fBorderSize\":1,\"fInit\":1,\"fShadowColor\":1,\"fCornerRadius\":0,\"fOption\":\"brNDC\",\"fName\":\"stats\",\"fTextAngle\":0,\"fTextSize\":0,\"fTextAlign\":12,\"fTextColor\":1,\"fTextFont\":42,\"fLabel\":\"\",\"fLongest\":18,\"fMargin\":0.05,\"fLines\":{\"_typename\":\"TList\",\"name\":\"TList\",\"arr\":[{\"_typename\":\"TLatex\",\"fUniqueID\":0,\"fBits\":0,\"fName\":\"\",\"fTitle\":\"hh\",\"fTextAngle\":0,\"fTextSize\":0.0368,\"fTextAlign\":0,\"fTextColor\":0,\"fTextFont\":0,\"fX\":0,\"fY\":0,\"fLineColor\":1,\"fLineStyle\":1,\"fLineWidth\":2,\"fLimitFactorSize\":3,\"fOriginSize\":0.0368000008165836},{\"_typename\":\"TLatex\",\"fUniqueID\":0,\"fBits\":0,\"fName\":\"\",\"fTitle\":\"Entries = 142783 \",\"fTextAngle\":0,\"fTextSize\":0,\"fTextAlign\":0,\"fTextColor\":0,\"fTextFont\":0,\"fX\":0,\"fY\":0,\"fLineColor\":1,\"fLineStyle\":1,\"fLineWidth\":2,\"fLimitFactorSize\":3,\"fOriginSize\":0.04},{\"_typename\":\"TLatex\",\"fUniqueID\":0,\"fBits\":0,\"fName\":\"\",\"fTitle\":\"Mean  =  1.164\",\"fTextAngle\":0,\"fTextSize\":0,\"fTextAlign\":0,\"fTextColor\":0,\"fTextFont\":0,\"fX\":0,\"fY\":0,\"fLineColor\":1,\"fLineStyle\":1,\"fLineWidth\":2,\"fLimitFactorSize\":3,\"fOriginSize\":0.04},{\"_typename\":\"TLatex\",\"fUniqueID\":0,\"fBits\":0,\"fName\":\"\",\"fTitle\":\"Std Dev   =  1.276\",\"fTextAngle\":0,\"fTextSize\":0,\"fTextAlign\":0,\"fTextColor\":0,\"fTextFont\":0,\"fX\":0,\"fY\":0,\"fLineColor\":1,\"fLineStyle\":1,\"fLineWidth\":2,\"fLimitFactorSize\":3,\"fOriginSize\":0.04}],\"opt\":[\"\",\"\",\"\",\"\"]},\"fOptFit\":0,\"fOptStat\":1111,\"fFitFormat\":\"5.4g\",\"fStatFormat\":\"6.4g\",\"fParent\":{\"$ref\":3}}],\"opt\":[\"brNDC\"]},\"fBufferSize\":0,\"fBuffer\":[],\"fBinStatErrOpt\":0,\"fStatOverflows\":2,\"fArray\":{\"$arr\":\"Float32\",\"len\":1002,\"p\":18,\"v\":[4,1,0,4,57,576,501,381,445,522,785,1184,1463,1504,1471,1289,1691,2048,2176,1861,2215,1691,1844,1717,1618,1572,1346,1416,1364,1298,1168,1217,1266,1098,1138,1049,1040,1022,878,943,957,973,939,879,875,794,836,755,778,808,705,711,710,655,643,683,625,646,601,590,596,559,516,543,550,507,501,413,435,458,438,441,441,436,412,452,415,382,398,378,382,332,388,325,372,358,359,354,343,311,378,343,335,336,278,286,285,284,295,290,276,292,297,269,244,291,288,278,270,222,255,306,249,253,242,250,223,237,232,229,219,246,223,206,207,223,212,197,229,229,223,197,211,208,218,201,189,232,191,223,191,212,168,148,227,202,193,215,204,183,175,170,174,172,169,192,192,153,199,158,182,150,150,179,192,161,173,198,117,170,169,164,153,174,168,151,190,172,152,166,134,120,128,155,144,118,137,135,151,121,130,165,130,142,138,144,113,154,126,152,158,119,148,111,121,134,145,136,131,98,113,123,115,124,110,132,101,98,110,114,116,106,106,123,110,107,123,96,128,97,140,101,143,90,123,86,125,120,87,113,104,110,109,104,91,107,115,95,99,83,119,122,90,116,82,109,97,113,77,98,102,85,102,93,97,88,72,109,90,114,102,91,80,95,73,89,93,94,83,84,103,123,96,91,101,86,89,107,100,93,78,90,82,102,80,68,92,78,64,73,77,106,87,92,75,74,91,85,93,84,65,83,92,64,74,95,78,76,79,69,98,81,69,78,69,83,75,46,92,73,83,79,72,69,61,82,56,80,74,72,69,75,79,79,70,67,96,60,63,61,55,59,87,70,65,67,73,66,75,58,71,68,74,67,74,65,61,58,73,48,70,72,65,52,51,69,63,79,56,64,71,73,61,61,82,69,67,40,68,67,62,67,49,88,46,61,54,59,57,60,52,66,48,46,67,57,73,51,63,60,53,45,58,51,79,40,60,45,63,49,61,63,51,61,78,52,49,67,53,91,48,54,55,71,60,52,66,34,69,48,47,62,37,45,59,61,64,53,55,74,47,50,61,62,56,47,66,39,54,61,51,63,58,57,65,38,68,63,70,55,63,43,59,55,49,61,45,45,41,51,48,50,60,55,57,39,40,56,40,45,42,55,50,59,48,41,57,58,57,52,53,66,49,61,50,53,44,46,37,53,61,71,54,65,48,47,50,54,56,62,46,46,48,50,46,51,38,46,62,56,39,57,50,57,48,30,45,51,33,53,47,39,58,45,68,72,37,45,43,60,52,48,40,55,58,53,41,35,38,44,39,48,47,56,43,46,71,49,50,37,41,42,32,53,63,41,60,39,50,54,47,50,51,40,37,43,55,56,39,30,45,42,56,53,42,57,36,33,44,42,63,54,63,48,42,46,35,63,57,60,60,44,53,42,54,39,66,57,52,55,56,59,34,39,45,54,37,51,46,45,51,59,60,65,49,61,78,46,47,52,65,58,54,43,47,65,37,59,55,60,58,68,51,48,61,63,50,59,51,53,55,44,62,66,70,54,56,64,72,57,65,54,46,61,58,45,43,49,33,65,55,58,63,69,66,46,61,55,56,57,45,55,46,65,70,56,70,60,56,71,47,66,47,40,63,55,63,67,59,62,53,60,53,59,63,83,51,60,75,64,62,32,77,65,64,79,65,59,73,75,77,59,70,72,74,76,79,60,90,65,61,100,65,70,89,76,71,86,90,103,86,65,84,84,72,83,99,111,91,117,105,74,65,92,59,79,89,108,74,94,116,89,96,88,98,93,124,73,91,85,86,91,97,86,87,89,71,81,78,94,103,102,114,94,101,106,106,115,112,104,113,104,94,104,85,103,109,110,90,117,105,115,98,112,90,115,100,93,113,95,105,90,82,105,90,92,89,102,100,106,97,89,79,99,72,106,97,84,88,102,70,77,79,75,80,63,92,75,62,62,58,55,71,69,61,57,51,45,52,66,46,49,32,46,50,51,58,34,39,41,34,27,43,38,30,15,22,21,15,21,20,21,24,16,13,12,16,12,15,8,9,10,13,14,7,6,5,8,6,5,5,6,6,2,2,1,6,4,3,2,1,5,0,2,4,1,3,0,2,0,3,0,1,2,1,4,1,3,1,0,1,0,2,1,0,1,1,0,0,0,2,3,1,0,1,0,0,2,0,0,0,1,0,0,0,0,1,0,1,0,0,0,0,0,0,0,0,0,1,0,1,0,0,0,0,0,0,0,0,1,0,0,0,4]}},{\"_typename\":\"TPaveText\",\"fUniqueID\":0,\"fBits\":9,\"fLineColor\":1,\"fLineStyle\":1,\"fLineWidth\":1,\"fFillColor\":0,\"fFillStyle\":0,\"fX1\":1.13803389930311,\"fY1\":2425.0619972685,\"fX2\":3.86196610069689,\"fY2\":2601.93284780618,\"fX1NDC\":0.282085427135678,\"fY1NDC\":0.934160843929211,\"fX2NDC\":0.717914572864322,\"fY2NDC\":0.995000004768372,\"fBorderSize\":0,\"fInit\":1,\"fShadowColor\":1,\"fCornerRadius\":0,\"fOption\":\"blNDC\",\"fName\":\"title\",\"fTextAngle\":0,\"fTextSize\":0,\"fTextAlign\":22,\"fTextColor\":1,\"fTextFont\":42,\"fLabel\":\"\",\"fLongest\":23,\"fMargin\":0.05,\"fLines\":{\"_typename\":\"TList\",\"name\":\"TList\",\"arr\":[{\"_typename\":\"TLatex\",\"fUniqueID\":0,\"fBits\":0,\"fName\":\"\",\"fTitle\":\"Ecal energy for photons\",\"fTextAngle\":0,\"fTextSize\":0,\"fTextAlign\":0,\"fTextColor\":0,\"fTextFont\":0,\"fX\":0,\"fY\":0,\"fLineColor\":1,\"fLineStyle\":1,\"fLineWidth\":2,\"fLimitFactorSize\":3,\"fOriginSize\":0.0517132878303528}],\"opt\":[\"\"]}},{\"_typename\":\"TStyle\",\"fUniqueID\":0,\"fBits\":0,\"fName\":\"Modern\",\"fTitle\":\"Modern Style\",\"fLineColor\":1,\"fLineStyle\":1,\"fLineWidth\":1,\"fFillColor\":19,\"fFillStyle\":1001,\"fMarkerColor\":1,\"fMarkerStyle\":1,\"fMarkerSize\":1,\"fTextAngle\":0,\"fTextSize\":0.05,\"fTextAlign\":11,\"fTextColor\":1,\"fTextFont\":62,\"fXaxis\":{\"_typename\":\"TAttAxis\",\"fNdivisions\":510,\"fAxisColor\":1,\"fLabelColor\":1,\"fLabelFont\":42,\"fLabelOffset\":0.005,\"fLabelSize\":0.035,\"fTickLength\":0.03,\"fTitleOffset\":1,\"fTitleSize\":0.035,\"fTitleColor\":1,\"fTitleFont\":42},\"fYaxis\":{\"_typename\":\"TAttAxis\",\"fNdivisions\":510,\"fAxisColor\":1,\"fLabelColor\":1,\"fLabelFont\":42,\"fLabelOffset\":0.005,\"fLabelSize\":0.035,\"fTickLength\":0.03,\"fTitleOffset\":0,\"fTitleSize\":0.035,\"fTitleColor\":1,\"fTitleFont\":42},\"fZaxis\":{\"_typename\":\"TAttAxis\",\"fNdivisions\":510,\"fAxisColor\":1,\"fLabelColor\":1,\"fLabelFont\":42,\"fLabelOffset\":0.005,\"fLabelSize\":0.035,\"fTickLength\":0.03,\"fTitleOffset\":1,\"fTitleSize\":0.035,\"fTitleColor\":1,\"fTitleFont\":42},\"fBarWidth\":1,\"fBarOffset\":0,\"fColorModelPS\":0,\"fDrawBorder\":0,\"fOptLogx\":0,\"fOptLogy\":0,\"fOptLogz\":0,\"fOptDate\":0,\"fOptStat\":1111,\"fOptTitle\":1,\"fOptFile\":0,\"fOptFit\":0,\"fShowEventStatus\":0,\"fShowEditor\":0,\"fShowToolBar\":0,\"fNumberContours\":20,\"fAttDate\":{\"_typename\":\"TAttText\",\"fTextAngle\":0,\"fTextSize\":0.025,\"fTextAlign\":11,\"fTextColor\":1,\"fTextFont\":62},\"fDateX\":0.01,\"fDateY\":0.01,\"fEndErrorSize\":2,\"fErrorX\":0.5,\"fFuncColor\":2,\"fFuncStyle\":1,\"fFuncWidth\":2,\"fGridColor\":0,\"fGridStyle\":3,\"fGridWidth\":1,\"fLegendBorderSize\":1,\"fLegendFillColor\":0,\"fLegendFont\":42,\"fLegendTextSize\":0,\"fHatchesLineWidth\":1,\"fHatchesSpacing\":1,\"fFrameFillColor\":0,\"fFrameLineColor\":1,\"fFrameFillStyle\":1001,\"fFrameLineStyle\":1,\"fFrameLineWidth\":1,\"fFrameBorderSize\":1,\"fFrameBorderMode\":0,\"fHistFillColor\":0,\"fHistLineColor\":602,\"fHistFillStyle\":1001,\"fHistLineStyle\":1,\"fHistLineWidth\":1,\"fHistMinimumZero\":false,\"fHistTopMargin\":0.05,\"fCanvasPreferGL\":false,\"fCanvasColor\":0,\"fCanvasBorderSize\":2,\"fCanvasBorderMode\":0,\"fCanvasDefH\":500,\"fCanvasDefW\":700,\"fCanvasDefX\":10,\"fCanvasDefY\":10,\"fPadColor\":0,\"fPadBorderSize\":2,\"fPadBorderMode\":0,\"fPadBottomMargin\":0.1,\"fPadTopMargin\":0.1,\"fPadLeftMargin\":0.1,\"fPadRightMargin\":0.1,\"fPadGridX\":false,\"fPadGridY\":false,\"fPadTickX\":0,\"fPadTickY\":0,\"fPaperSizeX\":20,\"fPaperSizeY\":26,\"fScreenFactor\":1,\"fStatColor\":0,\"fStatTextColor\":1,\"fStatBorderSize\":1,\"fStatFont\":42,\"fStatFontSize\":0,\"fStatStyle\":1001,\"fStatFormat\":\"6.4g\",\"fStatX\":0.98,\"fStatY\":0.935,\"fStatW\":0.2,\"fStatH\":0.16,\"fStripDecimals\":true,\"fTitleAlign\":23,\"fTitleColor\":0,\"fTitleTextColor\":1,\"fTitleBorderSize\":0,\"fTitleFont\":42,\"fTitleFontSize\":0.05,\"fTitleStyle\":0,\"fTitleX\":0.5,\"fTitleY\":0.995,\"fTitleW\":0,\"fTitleH\":0,\"fLegoInnerR\":0.5,\"fLineStyles\":[\"\",\"  \",\" 12 12\",\" 4 8\",\" 12 16 4 16\",\" 20 12 4 12\",\" 20 12 4 12 4 12 4 12\",\" 20 20\",\" 20 12 4 12 4 12\",\" 80 20\",\" 80 40 4 40\",\"  \",\"  \",\"  \",\"  \",\"  \",\"  \",\"  \",\"  \",\"  \",\"  \",\"  \",\"  \",\"  \",\"  \",\"  \",\"  \",\"  \",\"  \",\"  \"],\"fHeaderPS\":\"\",\"fTitlePS\":\"\",\"fFitFormat\":\"5.4g\",\"fPaintTextFormat\":\"g\",\"fLineScalePS\":3,\"fJoinLinePS\":0,\"fCapLinePS\":0,\"fTimeOffset\":788918400,\"fImageScaling\":1}],\"opt\":[\"\",\"\",\"blNDC\",\"\"]},\"fExecs\":null,\"fName\":\"canv\",\"fTitle\":\"Demo Canvas\",\"fNumPaletteColor\":0,\"fNextPaletteColor\":0,\"fDISPLAY\":\"$DISPLAY\",\"fDoubleBuffer\":0,\"fRetained\":true,\"fXsizeUser\":0,\"fYsizeUser\":0,\"fXsizeReal\":20,\"fYsizeReal\":15,\"fWindowTopX\":0,\"fWindowTopY\":0,\"fWindowWidth\":0,\"fWindowHeight\":0,\"fCw\":796,\"fCh\":572,\"fCatt\":{\"_typename\":\"TAttCanvas\",\"fXBetween\":2,\"fYBetween\":2,\"fTitleFromTop\":1.2,\"fXdate\":0.2,\"fYdate\":0.3,\"fAdate\":1},\"kMoveOpaque\":true,\"kResizeOpaque\":true,\"fHighLightColor\":2,\"fBatch\":true,\"kShowEventStatus\":false,\"kAutoExec\":true,\"kMenuBar\":true});\n",
       "   Core.settings.HandleKeys = false;\n",
       "   Core.draw(\"root_plot_1646013653514\", obj, \"\");\n",
       "}\n",
       "\n",
       "function script_load_root_plot_1646013653514(src, on_error) {\n",
       "    let script = document.createElement('script');\n",
       "    script.src = src;\n",
       "    script.onload = function() { display_root_plot_1646013653514(JSROOT); };\n",
       "    script.onerror = function() { script.remove(); on_error(); };\n",
       "    document.head.appendChild(script);\n",
       "}\n",
       "\n",
       "if (typeof requirejs !== 'undefined') {\n",
       "\n",
       "    // We are in jupyter notebooks, use require.js which should be configured already\n",
       "    requirejs.config({\n",
       "       paths: { 'JSRootCore' : [ 'scripts/JSRoot.core', 'https://root.cern/js/6.1.1/scripts/JSRoot.core.min', 'https://jsroot.gsi.de/6.1.1/scripts/JSRoot.core.min' ] }\n",
       "    })(['JSRootCore'],  function(Core) {\n",
       "       display_root_plot_1646013653514(Core);\n",
       "    });\n",
       "\n",
       "} else if (typeof JSROOT !== 'undefined') {\n",
       "\n",
       "   // JSROOT already loaded, just use it\n",
       "   display_root_plot_1646013653514(JSROOT);\n",
       "\n",
       "} else {\n",
       "\n",
       "    // We are in jupyterlab without require.js, directly loading jsroot\n",
       "    // Jupyterlab might be installed in a different base_url so we need to know it.\n",
       "    try {\n",
       "        var base_url = JSON.parse(document.getElementById('jupyter-config-data').innerHTML).baseUrl;\n",
       "    } catch(_) {\n",
       "        var base_url = '/';\n",
       "    }\n",
       "\n",
       "    // Try loading a local version of requirejs and fallback to cdn if not possible.\n",
       "    script_load_root_plot_1646013653514(base_url + 'static/scripts/JSRoot.core.js', function(){\n",
       "        console.error('Fail to load JSROOT locally, please check your jupyter_notebook_config.py file');\n",
       "        script_load_root_plot_1646013653514('https://root.cern/js/6.1.1/scripts/JSRoot.core.min.js', function(){\n",
       "            document.getElementById(\"root_plot_1646013653514\").innerHTML = \"Failed to load JSROOT\";\n",
       "        });\n",
       "    });\n",
       "}\n",
       "\n",
       "</script>\n"
      ],
      "text/plain": [
       "<IPython.core.display.HTML object>"
      ]
     },
     "metadata": {},
     "output_type": "display_data"
    }
   ],
   "source": [
    "hh = R.TH1F(\"hh\",\"Ecal energy for photons\",1000, 0., 5.);  # Create a histogram\n",
    "num_clus_checked=0\n",
    "for ievt in range(dch.GetEntries()):  #  For all the events in the chain.\n",
    "    dch.GetEntry(ievt)                # Get the event.\n",
    "    for ipart in range(len(mdst.part.type)):              # Go through all the particles.\n",
    "        if mdst.part.pdg[ipart] == 22:              # If it is a photon.\n",
    "            hh.Fill( mdst.part.energy[ipart])       # Add the energy to the histogram\n",
    "            \n",
    "        # For any tpy particle check if the part.energy is the same as the energy of the ecal cluster.\n",
    "        i_clus = mdst.part.ecal_cluster[ipart]\n",
    "        if i_clus>0:\n",
    "            num_clus_checked += 1\n",
    "            if np.abs(mdst.ecal_cluster_energy[i_clus] - mdst.part.energy[ipart]) > 1E-6:\n",
    "                print(f\"Not the same: [{i_clus}] {mdst.ecal_cluster_energy[i_clus]}  [{ipart}]{mdst.part.energy[ipart]} \")\n",
    "\n",
    "print(f\"Checked {num_clus_checked} clusters.\")\n",
    "\n",
    "# Draw the histogram we filled on a canvas.\n",
    "canv = R.TCanvas(\"canv\",\"Demo Canvas\", 800, 600)\n",
    "hh.Draw()\n",
    "canv.Draw()"
   ]
  }
 ],
 "metadata": {
  "kernelspec": {
   "display_name": "Python 3 (ipykernel)",
   "language": "python",
   "name": "python3"
  },
  "language_info": {
   "codemirror_mode": {
    "name": "ipython",
    "version": 3
   },
   "file_extension": ".py",
   "mimetype": "text/x-python",
   "name": "python",
   "nbconvert_exporter": "python",
   "pygments_lexer": "ipython3",
   "version": "3.9.7"
  }
 },
 "nbformat": 4,
 "nbformat_minor": 5
}
